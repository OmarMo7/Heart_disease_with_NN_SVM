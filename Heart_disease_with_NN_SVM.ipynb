{
  "nbformat": 4,
  "nbformat_minor": 0,
  "metadata": {
    "colab": {
      "provenance": []
    },
    "kernelspec": {
      "name": "python3",
      "display_name": "Python 3"
    },
    "language_info": {
      "name": "python"
    }
  },
  "cells": [
    {
      "cell_type": "code",
      "source": [
        "# import pandas as pd\n",
        "import numpy as np\n",
        "import random as rnd\n",
        "import pandas as pd\n",
        "\n",
        "# visualization\n",
        "import seaborn as sb\n",
        "import matplotlib.pyplot as plt\n",
        "from matplotlib import rcParams\n",
        "%matplotlib inline"
      ],
      "metadata": {
        "id": "YsKTF3hDYodg"
      },
      "execution_count": null,
      "outputs": []
    },
    {
      "cell_type": "code",
      "execution_count": null,
      "metadata": {
        "id": "Zl6GGJk8YdD4"
      },
      "outputs": [],
      "source": [
        "data = pd.read_csv('/content/framingham.csv')"
      ]
    },
    {
      "cell_type": "code",
      "source": [
        "data.head()"
      ],
      "metadata": {
        "colab": {
          "base_uri": "https://localhost:8080/",
          "height": 270
        },
        "id": "2A0y9WEeYtzn",
        "outputId": "cd7d0069-8050-41e0-e572-cf746ecdc318"
      },
      "execution_count": null,
      "outputs": [
        {
          "output_type": "execute_result",
          "data": {
            "text/plain": [
              "   male  age  education  currentSmoker  cigsPerDay  BPMeds  prevalentStroke  \\\n",
              "0     1   39        4.0              0         0.0     0.0                0   \n",
              "1     0   46        2.0              0         0.0     0.0                0   \n",
              "2     1   48        1.0              1        20.0     0.0                0   \n",
              "3     0   61        3.0              1        30.0     0.0                0   \n",
              "4     0   46        3.0              1        23.0     0.0                0   \n",
              "\n",
              "   prevalentHyp  diabetes  totChol  sysBP  diaBP    BMI  heartRate  glucose  \\\n",
              "0             0         0    195.0  106.0   70.0  26.97       80.0     77.0   \n",
              "1             0         0    250.0  121.0   81.0  28.73       95.0     76.0   \n",
              "2             0         0    245.0  127.5   80.0  25.34       75.0     70.0   \n",
              "3             1         0    225.0  150.0   95.0  28.58       65.0    103.0   \n",
              "4             0         0    285.0  130.0   84.0  23.10       85.0     85.0   \n",
              "\n",
              "   TenYearCHD  \n",
              "0           0  \n",
              "1           0  \n",
              "2           0  \n",
              "3           1  \n",
              "4           0  "
            ],
            "text/html": [
              "\n",
              "  <div id=\"df-6ee139ef-35ab-428f-84a0-301137222806\">\n",
              "    <div class=\"colab-df-container\">\n",
              "      <div>\n",
              "<style scoped>\n",
              "    .dataframe tbody tr th:only-of-type {\n",
              "        vertical-align: middle;\n",
              "    }\n",
              "\n",
              "    .dataframe tbody tr th {\n",
              "        vertical-align: top;\n",
              "    }\n",
              "\n",
              "    .dataframe thead th {\n",
              "        text-align: right;\n",
              "    }\n",
              "</style>\n",
              "<table border=\"1\" class=\"dataframe\">\n",
              "  <thead>\n",
              "    <tr style=\"text-align: right;\">\n",
              "      <th></th>\n",
              "      <th>male</th>\n",
              "      <th>age</th>\n",
              "      <th>education</th>\n",
              "      <th>currentSmoker</th>\n",
              "      <th>cigsPerDay</th>\n",
              "      <th>BPMeds</th>\n",
              "      <th>prevalentStroke</th>\n",
              "      <th>prevalentHyp</th>\n",
              "      <th>diabetes</th>\n",
              "      <th>totChol</th>\n",
              "      <th>sysBP</th>\n",
              "      <th>diaBP</th>\n",
              "      <th>BMI</th>\n",
              "      <th>heartRate</th>\n",
              "      <th>glucose</th>\n",
              "      <th>TenYearCHD</th>\n",
              "    </tr>\n",
              "  </thead>\n",
              "  <tbody>\n",
              "    <tr>\n",
              "      <th>0</th>\n",
              "      <td>1</td>\n",
              "      <td>39</td>\n",
              "      <td>4.0</td>\n",
              "      <td>0</td>\n",
              "      <td>0.0</td>\n",
              "      <td>0.0</td>\n",
              "      <td>0</td>\n",
              "      <td>0</td>\n",
              "      <td>0</td>\n",
              "      <td>195.0</td>\n",
              "      <td>106.0</td>\n",
              "      <td>70.0</td>\n",
              "      <td>26.97</td>\n",
              "      <td>80.0</td>\n",
              "      <td>77.0</td>\n",
              "      <td>0</td>\n",
              "    </tr>\n",
              "    <tr>\n",
              "      <th>1</th>\n",
              "      <td>0</td>\n",
              "      <td>46</td>\n",
              "      <td>2.0</td>\n",
              "      <td>0</td>\n",
              "      <td>0.0</td>\n",
              "      <td>0.0</td>\n",
              "      <td>0</td>\n",
              "      <td>0</td>\n",
              "      <td>0</td>\n",
              "      <td>250.0</td>\n",
              "      <td>121.0</td>\n",
              "      <td>81.0</td>\n",
              "      <td>28.73</td>\n",
              "      <td>95.0</td>\n",
              "      <td>76.0</td>\n",
              "      <td>0</td>\n",
              "    </tr>\n",
              "    <tr>\n",
              "      <th>2</th>\n",
              "      <td>1</td>\n",
              "      <td>48</td>\n",
              "      <td>1.0</td>\n",
              "      <td>1</td>\n",
              "      <td>20.0</td>\n",
              "      <td>0.0</td>\n",
              "      <td>0</td>\n",
              "      <td>0</td>\n",
              "      <td>0</td>\n",
              "      <td>245.0</td>\n",
              "      <td>127.5</td>\n",
              "      <td>80.0</td>\n",
              "      <td>25.34</td>\n",
              "      <td>75.0</td>\n",
              "      <td>70.0</td>\n",
              "      <td>0</td>\n",
              "    </tr>\n",
              "    <tr>\n",
              "      <th>3</th>\n",
              "      <td>0</td>\n",
              "      <td>61</td>\n",
              "      <td>3.0</td>\n",
              "      <td>1</td>\n",
              "      <td>30.0</td>\n",
              "      <td>0.0</td>\n",
              "      <td>0</td>\n",
              "      <td>1</td>\n",
              "      <td>0</td>\n",
              "      <td>225.0</td>\n",
              "      <td>150.0</td>\n",
              "      <td>95.0</td>\n",
              "      <td>28.58</td>\n",
              "      <td>65.0</td>\n",
              "      <td>103.0</td>\n",
              "      <td>1</td>\n",
              "    </tr>\n",
              "    <tr>\n",
              "      <th>4</th>\n",
              "      <td>0</td>\n",
              "      <td>46</td>\n",
              "      <td>3.0</td>\n",
              "      <td>1</td>\n",
              "      <td>23.0</td>\n",
              "      <td>0.0</td>\n",
              "      <td>0</td>\n",
              "      <td>0</td>\n",
              "      <td>0</td>\n",
              "      <td>285.0</td>\n",
              "      <td>130.0</td>\n",
              "      <td>84.0</td>\n",
              "      <td>23.10</td>\n",
              "      <td>85.0</td>\n",
              "      <td>85.0</td>\n",
              "      <td>0</td>\n",
              "    </tr>\n",
              "  </tbody>\n",
              "</table>\n",
              "</div>\n",
              "      <button class=\"colab-df-convert\" onclick=\"convertToInteractive('df-6ee139ef-35ab-428f-84a0-301137222806')\"\n",
              "              title=\"Convert this dataframe to an interactive table.\"\n",
              "              style=\"display:none;\">\n",
              "        \n",
              "  <svg xmlns=\"http://www.w3.org/2000/svg\" height=\"24px\"viewBox=\"0 0 24 24\"\n",
              "       width=\"24px\">\n",
              "    <path d=\"M0 0h24v24H0V0z\" fill=\"none\"/>\n",
              "    <path d=\"M18.56 5.44l.94 2.06.94-2.06 2.06-.94-2.06-.94-.94-2.06-.94 2.06-2.06.94zm-11 1L8.5 8.5l.94-2.06 2.06-.94-2.06-.94L8.5 2.5l-.94 2.06-2.06.94zm10 10l.94 2.06.94-2.06 2.06-.94-2.06-.94-.94-2.06-.94 2.06-2.06.94z\"/><path d=\"M17.41 7.96l-1.37-1.37c-.4-.4-.92-.59-1.43-.59-.52 0-1.04.2-1.43.59L10.3 9.45l-7.72 7.72c-.78.78-.78 2.05 0 2.83L4 21.41c.39.39.9.59 1.41.59.51 0 1.02-.2 1.41-.59l7.78-7.78 2.81-2.81c.8-.78.8-2.07 0-2.86zM5.41 20L4 18.59l7.72-7.72 1.47 1.35L5.41 20z\"/>\n",
              "  </svg>\n",
              "      </button>\n",
              "      \n",
              "  <style>\n",
              "    .colab-df-container {\n",
              "      display:flex;\n",
              "      flex-wrap:wrap;\n",
              "      gap: 12px;\n",
              "    }\n",
              "\n",
              "    .colab-df-convert {\n",
              "      background-color: #E8F0FE;\n",
              "      border: none;\n",
              "      border-radius: 50%;\n",
              "      cursor: pointer;\n",
              "      display: none;\n",
              "      fill: #1967D2;\n",
              "      height: 32px;\n",
              "      padding: 0 0 0 0;\n",
              "      width: 32px;\n",
              "    }\n",
              "\n",
              "    .colab-df-convert:hover {\n",
              "      background-color: #E2EBFA;\n",
              "      box-shadow: 0px 1px 2px rgba(60, 64, 67, 0.3), 0px 1px 3px 1px rgba(60, 64, 67, 0.15);\n",
              "      fill: #174EA6;\n",
              "    }\n",
              "\n",
              "    [theme=dark] .colab-df-convert {\n",
              "      background-color: #3B4455;\n",
              "      fill: #D2E3FC;\n",
              "    }\n",
              "\n",
              "    [theme=dark] .colab-df-convert:hover {\n",
              "      background-color: #434B5C;\n",
              "      box-shadow: 0px 1px 3px 1px rgba(0, 0, 0, 0.15);\n",
              "      filter: drop-shadow(0px 1px 2px rgba(0, 0, 0, 0.3));\n",
              "      fill: #FFFFFF;\n",
              "    }\n",
              "  </style>\n",
              "\n",
              "      <script>\n",
              "        const buttonEl =\n",
              "          document.querySelector('#df-6ee139ef-35ab-428f-84a0-301137222806 button.colab-df-convert');\n",
              "        buttonEl.style.display =\n",
              "          google.colab.kernel.accessAllowed ? 'block' : 'none';\n",
              "\n",
              "        async function convertToInteractive(key) {\n",
              "          const element = document.querySelector('#df-6ee139ef-35ab-428f-84a0-301137222806');\n",
              "          const dataTable =\n",
              "            await google.colab.kernel.invokeFunction('convertToInteractive',\n",
              "                                                     [key], {});\n",
              "          if (!dataTable) return;\n",
              "\n",
              "          const docLinkHtml = 'Like what you see? Visit the ' +\n",
              "            '<a target=\"_blank\" href=https://colab.research.google.com/notebooks/data_table.ipynb>data table notebook</a>'\n",
              "            + ' to learn more about interactive tables.';\n",
              "          element.innerHTML = '';\n",
              "          dataTable['output_type'] = 'display_data';\n",
              "          await google.colab.output.renderOutput(dataTable, element);\n",
              "          const docLink = document.createElement('div');\n",
              "          docLink.innerHTML = docLinkHtml;\n",
              "          element.appendChild(docLink);\n",
              "        }\n",
              "      </script>\n",
              "    </div>\n",
              "  </div>\n",
              "  "
            ]
          },
          "metadata": {},
          "execution_count": 7
        }
      ]
    },
    {
      "cell_type": "code",
      "source": [
        "data.shape\n"
      ],
      "metadata": {
        "colab": {
          "base_uri": "https://localhost:8080/"
        },
        "id": "jiz_gEU8YvWX",
        "outputId": "150f6c26-02c8-479e-cdc3-5acc71a2040f"
      },
      "execution_count": null,
      "outputs": [
        {
          "output_type": "execute_result",
          "data": {
            "text/plain": [
              "(4238, 16)"
            ]
          },
          "metadata": {},
          "execution_count": 8
        }
      ]
    },
    {
      "cell_type": "code",
      "source": [
        "median_education= data['education'].median()\n",
        "median_cigsPerDay= data['cigsPerDay'].median()\n",
        "median_BPMeds= data['BPMeds'].median()\n",
        "median_totChol= data['totChol'].median()\n",
        "median_BMI= data['BMI'].median()\n",
        "median_heartRate= data['heartRate'].median()\n",
        "median_glucose= data['glucose'].median()\n"
      ],
      "metadata": {
        "id": "WNkHI7LuacUA"
      },
      "execution_count": null,
      "outputs": []
    },
    {
      "cell_type": "code",
      "source": [
        "data['education'].fillna(median_education, inplace=True)\n",
        "data['cigsPerDay'].fillna(median_cigsPerDay, inplace=True)\n",
        "data['BPMeds'].fillna(median_BPMeds, inplace=True)\n",
        "data['totChol'].fillna(median_totChol, inplace=True)\n",
        "data['BMI'].fillna(median_BMI, inplace=True)\n",
        "data['heartRate'].fillna(median_heartRate, inplace=True)\n",
        "data['glucose'].fillna(median_glucose, inplace=True)\n",
        "\n",
        "# data.dropna(inplace=True)\n"
      ],
      "metadata": {
        "id": "DYHbYCPrbGeo"
      },
      "execution_count": null,
      "outputs": []
    },
    {
      "cell_type": "code",
      "source": [
        "data.isna().any()"
      ],
      "metadata": {
        "colab": {
          "base_uri": "https://localhost:8080/"
        },
        "id": "YsDLNuebY254",
        "outputId": "9425a975-6b01-4bc6-b838-b93d49134448"
      },
      "execution_count": null,
      "outputs": [
        {
          "output_type": "execute_result",
          "data": {
            "text/plain": [
              "male               False\n",
              "age                False\n",
              "education          False\n",
              "currentSmoker      False\n",
              "cigsPerDay         False\n",
              "BPMeds             False\n",
              "prevalentStroke    False\n",
              "prevalentHyp       False\n",
              "diabetes           False\n",
              "totChol            False\n",
              "sysBP              False\n",
              "diaBP              False\n",
              "BMI                False\n",
              "heartRate          False\n",
              "glucose            False\n",
              "TenYearCHD         False\n",
              "dtype: bool"
            ]
          },
          "metadata": {},
          "execution_count": 12
        }
      ]
    },
    {
      "cell_type": "code",
      "source": [
        "data.duplicated().any()"
      ],
      "metadata": {
        "colab": {
          "base_uri": "https://localhost:8080/"
        },
        "id": "ts40dMGsblfo",
        "outputId": "6ee844e4-644c-4eeb-bf5d-94aeb7925184"
      },
      "execution_count": null,
      "outputs": [
        {
          "output_type": "execute_result",
          "data": {
            "text/plain": [
              "False"
            ]
          },
          "metadata": {},
          "execution_count": 13
        }
      ]
    },
    {
      "cell_type": "markdown",
      "source": [
        "### Splitting data"
      ],
      "metadata": {
        "id": "rTmfUb__by4w"
      }
    },
    {
      "cell_type": "code",
      "source": [
        "import pandas as pd\n",
        "# Import train_test_split function\n",
        "from sklearn.model_selection import train_test_split\n",
        "#Import scikit-learn metrics module for accuracy calculation\n",
        "from sklearn import metrics\n",
        "\n"
      ],
      "metadata": {
        "id": "MhrhBRrTbqn4"
      },
      "execution_count": null,
      "outputs": []
    },
    {
      "cell_type": "code",
      "source": [
        "normalized_data=(data-data.min())/(data.max()-data.min())"
      ],
      "metadata": {
        "id": "FrCizbDufQgf"
      },
      "execution_count": null,
      "outputs": []
    },
    {
      "cell_type": "code",
      "source": [
        "X = normalized_data.drop(['TenYearCHD'], axis=1)\n",
        "Y = normalized_data['TenYearCHD']\n",
        "X_train, X_test, Y_train, Y_test = train_test_split(X, Y, test_size=0.2)"
      ],
      "metadata": {
        "id": "jEOukEb8fb1v"
      },
      "execution_count": null,
      "outputs": []
    },
    {
      "cell_type": "markdown",
      "source": [
        "### Using softmax"
      ],
      "metadata": {
        "id": "Ua2GFe8Ahb8I"
      }
    },
    {
      "cell_type": "code",
      "source": [
        "import pandas as pd\n",
        "import numpy as np\n",
        "from keras.models import Sequential\n",
        "from keras.layers import Dense, Activation\n",
        "import matplotlib.pyplot as plt\n",
        "\n",
        "\n",
        "model_softmax = Sequential()\n",
        "model_softmax.add(Dense(2, activation='softmax', input_dim=15))\n",
        "\n"
      ],
      "metadata": {
        "id": "S1wkFwbYdCOH"
      },
      "execution_count": null,
      "outputs": []
    },
    {
      "cell_type": "code",
      "source": [
        "model_softmax.compile(optimizer = \"adam\", loss = \"sparse_categorical_crossentropy\", metrics = \"accuracy\")\n",
        "model_softmax.summary()"
      ],
      "metadata": {
        "colab": {
          "base_uri": "https://localhost:8080/"
        },
        "id": "Wio0gZjXdflf",
        "outputId": "12469267-57a0-46db-d13f-cf1ab9f34d7d"
      },
      "execution_count": null,
      "outputs": [
        {
          "output_type": "stream",
          "name": "stdout",
          "text": [
            "Model: \"sequential_9\"\n",
            "_________________________________________________________________\n",
            " Layer (type)                Output Shape              Param #   \n",
            "=================================================================\n",
            " dense_9 (Dense)             (None, 2)                 32        \n",
            "                                                                 \n",
            "=================================================================\n",
            "Total params: 32\n",
            "Trainable params: 32\n",
            "Non-trainable params: 0\n",
            "_________________________________________________________________\n"
          ]
        }
      ]
    },
    {
      "cell_type": "code",
      "source": [
        "results=model_softmax.fit(\n",
        "    x=X_train,\n",
        "    y=Y_train,\n",
        "    shuffle=True,\n",
        "    epochs=30,\n",
        "    batch_size=16,\n",
        "    validation_data=(X_test, Y_test)\n",
        ")"
      ],
      "metadata": {
        "colab": {
          "base_uri": "https://localhost:8080/"
        },
        "id": "Jc3dmSTCdj_X",
        "outputId": "e6abca35-0e2b-463e-c9c0-7417aefb4c76"
      },
      "execution_count": null,
      "outputs": [
        {
          "output_type": "stream",
          "name": "stdout",
          "text": [
            "Epoch 1/30\n",
            "183/183 [==============================] - 1s 2ms/step - loss: 0.5466 - accuracy: 0.7969 - val_loss: 0.4823 - val_accuracy: 0.8388\n",
            "Epoch 2/30\n",
            "183/183 [==============================] - 0s 1ms/step - loss: 0.4778 - accuracy: 0.8482 - val_loss: 0.4646 - val_accuracy: 0.8443\n",
            "Epoch 3/30\n",
            "183/183 [==============================] - 0s 1ms/step - loss: 0.4647 - accuracy: 0.8485 - val_loss: 0.4573 - val_accuracy: 0.8443\n",
            "Epoch 4/30\n",
            "183/183 [==============================] - 0s 1ms/step - loss: 0.4558 - accuracy: 0.8485 - val_loss: 0.4513 - val_accuracy: 0.8443\n",
            "Epoch 5/30\n",
            "183/183 [==============================] - 0s 1ms/step - loss: 0.4485 - accuracy: 0.8485 - val_loss: 0.4461 - val_accuracy: 0.8443\n",
            "Epoch 6/30\n",
            "183/183 [==============================] - 0s 1ms/step - loss: 0.4422 - accuracy: 0.8485 - val_loss: 0.4417 - val_accuracy: 0.8443\n",
            "Epoch 7/30\n",
            "183/183 [==============================] - 0s 1ms/step - loss: 0.4368 - accuracy: 0.8485 - val_loss: 0.4381 - val_accuracy: 0.8443\n",
            "Epoch 8/30\n",
            "183/183 [==============================] - 0s 1ms/step - loss: 0.4326 - accuracy: 0.8485 - val_loss: 0.4350 - val_accuracy: 0.8443\n",
            "Epoch 9/30\n",
            "183/183 [==============================] - 0s 1ms/step - loss: 0.4286 - accuracy: 0.8485 - val_loss: 0.4327 - val_accuracy: 0.8443\n",
            "Epoch 10/30\n",
            "183/183 [==============================] - 0s 1ms/step - loss: 0.4257 - accuracy: 0.8485 - val_loss: 0.4302 - val_accuracy: 0.8443\n",
            "Epoch 11/30\n",
            "183/183 [==============================] - 0s 1ms/step - loss: 0.4226 - accuracy: 0.8485 - val_loss: 0.4282 - val_accuracy: 0.8443\n",
            "Epoch 12/30\n",
            "183/183 [==============================] - 0s 1ms/step - loss: 0.4200 - accuracy: 0.8485 - val_loss: 0.4264 - val_accuracy: 0.8443\n",
            "Epoch 13/30\n",
            "183/183 [==============================] - 0s 1ms/step - loss: 0.4178 - accuracy: 0.8485 - val_loss: 0.4247 - val_accuracy: 0.8443\n",
            "Epoch 14/30\n",
            "183/183 [==============================] - 0s 1ms/step - loss: 0.4158 - accuracy: 0.8485 - val_loss: 0.4231 - val_accuracy: 0.8443\n",
            "Epoch 15/30\n",
            "183/183 [==============================] - 0s 1ms/step - loss: 0.4137 - accuracy: 0.8488 - val_loss: 0.4217 - val_accuracy: 0.8443\n",
            "Epoch 16/30\n",
            "183/183 [==============================] - 0s 1ms/step - loss: 0.4122 - accuracy: 0.8488 - val_loss: 0.4202 - val_accuracy: 0.8443\n",
            "Epoch 17/30\n",
            "183/183 [==============================] - 0s 1ms/step - loss: 0.4107 - accuracy: 0.8495 - val_loss: 0.4193 - val_accuracy: 0.8443\n",
            "Epoch 18/30\n",
            "183/183 [==============================] - 0s 1ms/step - loss: 0.4091 - accuracy: 0.8495 - val_loss: 0.4178 - val_accuracy: 0.8443\n",
            "Epoch 19/30\n",
            "183/183 [==============================] - 0s 1ms/step - loss: 0.4080 - accuracy: 0.8495 - val_loss: 0.4171 - val_accuracy: 0.8443\n",
            "Epoch 20/30\n",
            "183/183 [==============================] - 0s 1ms/step - loss: 0.4067 - accuracy: 0.8492 - val_loss: 0.4167 - val_accuracy: 0.8443\n",
            "Epoch 21/30\n",
            "183/183 [==============================] - 0s 1ms/step - loss: 0.4055 - accuracy: 0.8495 - val_loss: 0.4147 - val_accuracy: 0.8443\n",
            "Epoch 22/30\n",
            "183/183 [==============================] - 0s 1ms/step - loss: 0.4045 - accuracy: 0.8492 - val_loss: 0.4139 - val_accuracy: 0.8443\n",
            "Epoch 23/30\n",
            "183/183 [==============================] - 0s 1ms/step - loss: 0.4033 - accuracy: 0.8495 - val_loss: 0.4129 - val_accuracy: 0.8443\n",
            "Epoch 24/30\n",
            "183/183 [==============================] - 0s 1ms/step - loss: 0.4026 - accuracy: 0.8495 - val_loss: 0.4120 - val_accuracy: 0.8443\n",
            "Epoch 25/30\n",
            "183/183 [==============================] - 0s 2ms/step - loss: 0.4015 - accuracy: 0.8502 - val_loss: 0.4113 - val_accuracy: 0.8443\n",
            "Epoch 26/30\n",
            "183/183 [==============================] - 0s 1ms/step - loss: 0.4008 - accuracy: 0.8502 - val_loss: 0.4106 - val_accuracy: 0.8443\n",
            "Epoch 27/30\n",
            "183/183 [==============================] - 0s 1ms/step - loss: 0.4001 - accuracy: 0.8495 - val_loss: 0.4097 - val_accuracy: 0.8429\n",
            "Epoch 28/30\n",
            "183/183 [==============================] - 0s 1ms/step - loss: 0.3991 - accuracy: 0.8505 - val_loss: 0.4091 - val_accuracy: 0.8429\n",
            "Epoch 29/30\n",
            "183/183 [==============================] - 0s 1ms/step - loss: 0.3986 - accuracy: 0.8499 - val_loss: 0.4084 - val_accuracy: 0.8429\n",
            "Epoch 30/30\n",
            "183/183 [==============================] - 0s 1ms/step - loss: 0.3979 - accuracy: 0.8512 - val_loss: 0.4076 - val_accuracy: 0.8429\n"
          ]
        }
      ]
    },
    {
      "cell_type": "markdown",
      "source": [
        "### Using sigmoid "
      ],
      "metadata": {
        "id": "aJowg_-xhSYI"
      }
    },
    {
      "cell_type": "code",
      "source": [
        "model_sigmoid = Sequential()\n",
        "model_sigmoid.add(Dense(1, activation='sigmoid', input_dim=15))"
      ],
      "metadata": {
        "id": "8VW_NGPLhRxm"
      },
      "execution_count": null,
      "outputs": []
    },
    {
      "cell_type": "code",
      "source": [
        "model_sigmoid.compile(optimizer = \"adam\", loss = \"sparse_categorical_crossentropy\", metrics = \"accuracy\")\n",
        "model_sigmoid.summary()"
      ],
      "metadata": {
        "colab": {
          "base_uri": "https://localhost:8080/"
        },
        "id": "jEJ6mXMEhNzf",
        "outputId": "cca00a7c-b916-4c61-9ee7-91f204da4820"
      },
      "execution_count": null,
      "outputs": [
        {
          "output_type": "stream",
          "name": "stdout",
          "text": [
            "Model: \"sequential_10\"\n",
            "_________________________________________________________________\n",
            " Layer (type)                Output Shape              Param #   \n",
            "=================================================================\n",
            " dense_10 (Dense)            (None, 1)                 16        \n",
            "                                                                 \n",
            "=================================================================\n",
            "Total params: 16\n",
            "Trainable params: 16\n",
            "Non-trainable params: 0\n",
            "_________________________________________________________________\n"
          ]
        }
      ]
    },
    {
      "cell_type": "code",
      "source": [
        "results=model_softmax.fit(\n",
        "    x=X_train,\n",
        "    y=Y_train,\n",
        "    shuffle=True,\n",
        "    epochs=100,\n",
        "    batch_size=64,\n",
        "    validation_data=(X_test, Y_test)\n",
        ")"
      ],
      "metadata": {
        "id": "IVipzbD2hohm"
      },
      "execution_count": null,
      "outputs": []
    },
    {
      "cell_type": "code",
      "source": [
        "plt.plot(results.history['loss'])\n",
        "plt.plot(results.history['val_loss'])\n",
        "plt.xlabel('epoch')\n",
        "plt.ylim([0,1])\n",
        "plt.show()\n",
        "plt.plot(results.history['accuracy'])\n",
        "plt.plot(results.history['val_accuracy'])\n",
        "plt.xlabel('epoch')\n",
        "plt.ylim([0,1])\n",
        "plt.show()\n",
        "# plt.legend(['Training'])\n"
      ],
      "metadata": {
        "colab": {
          "base_uri": "https://localhost:8080/",
          "height": 549
        },
        "id": "lk6KIjGbmInu",
        "outputId": "c6f28bd8-71e1-406a-e58b-de4f632f4f39"
      },
      "execution_count": null,
      "outputs": [
        {
          "output_type": "display_data",
          "data": {
            "text/plain": [
              "<Figure size 432x288 with 1 Axes>"
            ],
            "image/png": "[encoded data removed]"
          },
          "metadata": {
            "needs_background": "light"
          }
        },
        {
          "output_type": "display_data",
          "data": {
            "text/plain": [
              "<Figure size 432x288 with 1 Axes>"
            ],
            "image/png": "[encoded data removed]"
          },
          "metadata": {
            "needs_background": "light"
          }
        }
      ]
    },
    {
      "cell_type": "code",
      "source": [
        "from sklearn import datasets, svm\n",
        "\n",
        "model_svm = svm.SVC(C=1.0, kernel='rbf')"
      ],
      "metadata": {
        "id": "zh3606dVgi0z"
      },
      "execution_count": null,
      "outputs": []
    },
    {
      "cell_type": "code",
      "source": [
        "from sklearn.metrics import accuracy_score, confusion_matrix, classification_report\n",
        "# model fitting\n",
        "model_svm.fit(X_train, Y_train)\n",
        "\n",
        "# predict using the model\n",
        "pred = model_svm.predict(X_test)\n",
        "\n",
        "# model validation\n",
        "print(accuracy_score(pred, Y_test))\n",
        "print(classification_report(pred, Y_test))"
      ],
      "metadata": {
        "colab": {
          "base_uri": "https://localhost:8080/"
        },
        "id": "UJ_JhyThg1iq",
        "outputId": "cd9b1283-773b-4699-e907-c4ad6772361a"
      },
      "execution_count": null,
      "outputs": [
        {
          "output_type": "stream",
          "name": "stdout",
          "text": [
            "0.8278301886792453\n",
            "              precision    recall  f1-score   support\n",
            "\n",
            "         0.0       1.00      0.83      0.91       848\n",
            "         1.0       0.00      0.00      0.00         0\n",
            "\n",
            "    accuracy                           0.83       848\n",
            "   macro avg       0.50      0.41      0.45       848\n",
            "weighted avg       1.00      0.83      0.91       848\n",
            "\n"
          ]
        },
        {
          "output_type": "stream",
          "name": "stderr",
          "text": [
            "/usr/local/lib/python3.7/dist-packages/sklearn/metrics/_classification.py:1318: UndefinedMetricWarning: Recall and F-score are ill-defined and being set to 0.0 in labels with no true samples. Use `zero_division` parameter to control this behavior.\n",
            "  _warn_prf(average, modifier, msg_start, len(result))\n",
            "/usr/local/lib/python3.7/dist-packages/sklearn/metrics/_classification.py:1318: UndefinedMetricWarning: Recall and F-score are ill-defined and being set to 0.0 in labels with no true samples. Use `zero_division` parameter to control this behavior.\n",
            "  _warn_prf(average, modifier, msg_start, len(result))\n",
            "/usr/local/lib/python3.7/dist-packages/sklearn/metrics/_classification.py:1318: UndefinedMetricWarning: Recall and F-score are ill-defined and being set to 0.0 in labels with no true samples. Use `zero_division` parameter to control this behavior.\n",
            "  _warn_prf(average, modifier, msg_start, len(result))\n"
          ]
        }
      ]
    }
  ]
}